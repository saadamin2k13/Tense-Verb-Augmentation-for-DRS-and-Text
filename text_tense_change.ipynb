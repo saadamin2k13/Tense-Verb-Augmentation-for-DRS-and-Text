{
  "nbformat": 4,
  "nbformat_minor": 0,
  "metadata": {
    "colab": {
      "provenance": []
    },
    "kernelspec": {
      "name": "python3",
      "display_name": "Python 3"
    },
    "language_info": {
      "name": "python"
    },
    "gpuClass": "standard"
  },
  "cells": [
    {
      "cell_type": "code",
      "execution_count": null,
      "metadata": {
        "colab": {
          "base_uri": "https://localhost:8080/",
          "height": 35
        },
        "id": "MV7WQpmURFzi",
        "outputId": "58451e22-ffb9-4dfc-bd6f-e383dd4d3d7a"
      },
      "outputs": [
        {
          "output_type": "execute_result",
          "data": {
            "text/plain": [
              "'/content'"
            ],
            "application/vnd.google.colaboratory.intrinsic+json": {
              "type": "string"
            }
          },
          "metadata": {},
          "execution_count": 1
        }
      ],
      "source": [
        "pwd"
      ]
    },
    {
      "cell_type": "code",
      "source": [
        "ls"
      ],
      "metadata": {
        "colab": {
          "base_uri": "https://localhost:8080/"
        },
        "id": "Cruw2ktzRUs9",
        "outputId": "5188db7c-1e63-4630-bc6b-f7d4d732e47f"
      },
      "execution_count": null,
      "outputs": [
        {
          "output_type": "stream",
          "name": "stdout",
          "text": [
            "\u001b[0m\u001b[01;34msample_data\u001b[0m/\n"
          ]
        }
      ]
    },
    {
      "cell_type": "code",
      "source": [
        "!git clone https://github.com/bendichter/tenseflow.git"
      ],
      "metadata": {
        "id": "rJZU00inRV_K"
      },
      "execution_count": null,
      "outputs": []
    },
    {
      "cell_type": "code",
      "source": [
        "!ls"
      ],
      "metadata": {
        "colab": {
          "base_uri": "https://localhost:8080/"
        },
        "id": "pKXcjpHhRgEo",
        "outputId": "7ad4eef3-57d2-4ec9-8c34-711b7afb28da"
      },
      "execution_count": null,
      "outputs": [
        {
          "output_type": "stream",
          "name": "stdout",
          "text": [
            "sample_data  tenseflow\n"
          ]
        }
      ]
    },
    {
      "cell_type": "code",
      "source": [
        "cd tenseflow"
      ],
      "metadata": {
        "id": "0wexzjpsRi-u",
        "colab": {
          "base_uri": "https://localhost:8080/"
        },
        "outputId": "643f66ca-b53b-4039-ba8a-2812881ee09c"
      },
      "execution_count": null,
      "outputs": [
        {
          "output_type": "stream",
          "name": "stdout",
          "text": [
            "/content/tenseflow\n"
          ]
        }
      ]
    },
    {
      "cell_type": "code",
      "source": [
        "pwd"
      ],
      "metadata": {
        "colab": {
          "base_uri": "https://localhost:8080/",
          "height": 35
        },
        "id": "Jmc9F-hhRoCi",
        "outputId": "3813f508-4651-4e1c-95ca-af2369c0ef33"
      },
      "execution_count": null,
      "outputs": [
        {
          "output_type": "execute_result",
          "data": {
            "text/plain": [
              "'/content/tenseflow'"
            ],
            "application/vnd.google.colaboratory.intrinsic+json": {
              "type": "string"
            }
          },
          "metadata": {},
          "execution_count": 6
        }
      ]
    },
    {
      "cell_type": "code",
      "source": [
        "ls"
      ],
      "metadata": {
        "id": "A98Qyr30RtGH"
      },
      "execution_count": null,
      "outputs": []
    },
    {
      "cell_type": "code",
      "source": [
        "!pip install ."
      ],
      "metadata": {
        "id": "FdyBmeodRub-"
      },
      "execution_count": null,
      "outputs": []
    },
    {
      "cell_type": "code",
      "source": [
        "!sudo python -m spacy download en\n"
      ],
      "metadata": {
        "id": "Jhgq8JI_6N_K"
      },
      "execution_count": null,
      "outputs": []
    },
    {
      "cell_type": "code",
      "source": [
        "import nltk"
      ],
      "metadata": {
        "id": "A18m1Yap-e3d"
      },
      "execution_count": null,
      "outputs": []
    },
    {
      "cell_type": "code",
      "source": [
        "nltk.download('omw-1.4')"
      ],
      "metadata": {
        "colab": {
          "base_uri": "https://localhost:8080/"
        },
        "id": "cpkqHz3n-hsG",
        "outputId": "e13999bd-1c3a-48ea-a744-6274a5c73cb8"
      },
      "execution_count": null,
      "outputs": [
        {
          "output_type": "stream",
          "name": "stderr",
          "text": [
            "[nltk_data] Downloading package omw-1.4 to /root/nltk_data...\n"
          ]
        },
        {
          "output_type": "execute_result",
          "data": {
            "text/plain": [
              "True"
            ]
          },
          "metadata": {},
          "execution_count": 11
        }
      ]
    },
    {
      "cell_type": "code",
      "source": [
        "from tenseflow import change_tense"
      ],
      "metadata": {
        "id": "ro4mJKwW6ZWu",
        "colab": {
          "base_uri": "https://localhost:8080/"
        },
        "outputId": "310c25b6-1d55-4b91-8fde-5c2d2ff4f335"
      },
      "execution_count": null,
      "outputs": [
        {
          "output_type": "stream",
          "name": "stderr",
          "text": [
            "/usr/local/lib/python3.8/dist-packages/torch/cuda/__init__.py:497: UserWarning: Can't initialize NVML\n",
            "  warnings.warn(\"Can't initialize NVML\")\n"
          ]
        }
      ]
    },
    {
      "cell_type": "code",
      "source": [
        "change_tense('His pencil has been sharpened.', 'present')"
      ],
      "metadata": {
        "colab": {
          "base_uri": "https://localhost:8080/",
          "height": 35
        },
        "id": "6tf7tVZAs0xw",
        "outputId": "031f58a1-302f-4f30-8583-6518815a9bca"
      },
      "execution_count": null,
      "outputs": [
        {
          "output_type": "execute_result",
          "data": {
            "text/plain": [
              "'His pencil is sharpens.'"
            ],
            "application/vnd.google.colaboratory.intrinsic+json": {
              "type": "string"
            }
          },
          "metadata": {},
          "execution_count": 14
        }
      ]
    },
    {
      "cell_type": "code",
      "source": [
        "pwd"
      ],
      "metadata": {
        "colab": {
          "base_uri": "https://localhost:8080/",
          "height": 35
        },
        "id": "8LwrZwkRMa9K",
        "outputId": "b90a7063-5744-4975-f28d-a3cf338ec0cf"
      },
      "execution_count": null,
      "outputs": [
        {
          "output_type": "execute_result",
          "data": {
            "text/plain": [
              "'/content/tenseflow'"
            ],
            "application/vnd.google.colaboratory.intrinsic+json": {
              "type": "string"
            }
          },
          "metadata": {},
          "execution_count": 15
        }
      ]
    },
    {
      "cell_type": "code",
      "source": [
        "!wget \"https://pmb.let.rug.nl/releases/exp_data_3.0.0.zip\"\n"
      ],
      "metadata": {
        "id": "zKEiqP0XTbIH"
      },
      "execution_count": null,
      "outputs": []
    },
    {
      "cell_type": "code",
      "source": [
        "!unzip exp_data_3.0.0.zip\n"
      ],
      "metadata": {
        "id": "XZpIFvzWTiK7"
      },
      "execution_count": null,
      "outputs": []
    },
    {
      "cell_type": "code",
      "source": [
        "!mv pmb_exp_data_3.0.0 en-data\n"
      ],
      "metadata": {
        "id": "5L8Sso-eTm9t"
      },
      "execution_count": null,
      "outputs": []
    },
    {
      "cell_type": "code",
      "source": [
        "!rm exp_data_3.0.0.zip\n"
      ],
      "metadata": {
        "id": "ljEcp5Y5Tu4Y"
      },
      "execution_count": null,
      "outputs": []
    },
    {
      "cell_type": "code",
      "source": [
        "cd en-data\n"
      ],
      "metadata": {
        "colab": {
          "base_uri": "https://localhost:8080/"
        },
        "id": "MwVAzrPmTx1Q",
        "outputId": "2ca3212e-eadd-4c6a-b698-1dda2be3aabf"
      },
      "execution_count": null,
      "outputs": [
        {
          "output_type": "stream",
          "name": "stdout",
          "text": [
            "/content/tenseflow/en-data\n"
          ]
        }
      ]
    },
    {
      "cell_type": "code",
      "source": [
        "rm -rf de/ it/ nl/"
      ],
      "metadata": {
        "id": "HPtSdyNQT2dn"
      },
      "execution_count": null,
      "outputs": []
    },
    {
      "cell_type": "code",
      "source": [
        "cd en"
      ],
      "metadata": {
        "colab": {
          "base_uri": "https://localhost:8080/"
        },
        "id": "OdMzKt24T_hp",
        "outputId": "df95711d-cfae-4fc3-cf2e-7aa8c528bcc9"
      },
      "execution_count": null,
      "outputs": [
        {
          "output_type": "stream",
          "name": "stdout",
          "text": [
            "/content/tenseflow/en-data/en\n"
          ]
        }
      ]
    },
    {
      "cell_type": "code",
      "source": [
        "rm -rf silver/ bronze/"
      ],
      "metadata": {
        "id": "j5vzg5sqUGDV"
      },
      "execution_count": null,
      "outputs": []
    },
    {
      "cell_type": "code",
      "source": [
        "cd gold/"
      ],
      "metadata": {
        "colab": {
          "base_uri": "https://localhost:8080/"
        },
        "id": "J3EeybXtUHh1",
        "outputId": "11b6c455-50a0-4a4a-b2ab-b6a98654993d"
      },
      "execution_count": null,
      "outputs": [
        {
          "output_type": "stream",
          "name": "stdout",
          "text": [
            "/content/tenseflow/en-data/en/gold\n"
          ]
        }
      ]
    },
    {
      "cell_type": "code",
      "source": [
        "rm dev.txt dev.txt.raw test.txt test.txt.raw"
      ],
      "metadata": {
        "id": "RjInJ4snUK_k"
      },
      "execution_count": null,
      "outputs": []
    },
    {
      "cell_type": "code",
      "source": [
        "mv train.txt ../../../"
      ],
      "metadata": {
        "id": "EtM2SVssUOc-"
      },
      "execution_count": null,
      "outputs": []
    },
    {
      "cell_type": "code",
      "source": [
        "mv train.txt.raw ../../../"
      ],
      "metadata": {
        "id": "LRfsVRqeUe9K"
      },
      "execution_count": null,
      "outputs": []
    },
    {
      "cell_type": "code",
      "source": [
        "cd ../../../"
      ],
      "metadata": {
        "colab": {
          "base_uri": "https://localhost:8080/"
        },
        "id": "AsGALHdvUkKn",
        "outputId": "f79948b6-bf0b-4ca2-a87e-c39a848ce61d"
      },
      "execution_count": null,
      "outputs": [
        {
          "output_type": "stream",
          "name": "stdout",
          "text": [
            "/content/tenseflow\n"
          ]
        }
      ]
    },
    {
      "cell_type": "code",
      "source": [
        "rm -rf en-data/"
      ],
      "metadata": {
        "id": "2sdJKwHrUtj8"
      },
      "execution_count": null,
      "outputs": []
    },
    {
      "cell_type": "code",
      "source": [
        "pwd"
      ],
      "metadata": {
        "colab": {
          "base_uri": "https://localhost:8080/",
          "height": 35
        },
        "id": "6SF3n-tAVVqq",
        "outputId": "d753846a-69f7-430b-93b7-4849bbf802bc"
      },
      "execution_count": null,
      "outputs": [
        {
          "output_type": "execute_result",
          "data": {
            "text/plain": [
              "'/content/tenseflow'"
            ],
            "application/vnd.google.colaboratory.intrinsic+json": {
              "type": "string"
            }
          },
          "metadata": {},
          "execution_count": 20
        }
      ]
    },
    {
      "cell_type": "markdown",
      "source": [
        "**Present Tense Conversion**"
      ],
      "metadata": {
        "id": "yPwJPfs-Eptt"
      }
    },
    {
      "cell_type": "code",
      "source": [
        "#input file\n",
        "fin = open(\"../train.txt.raw\", \"rt\")\n",
        "#output file to write the result to\n",
        "fout = open(\"../train-present.txt.raw\", \"wt\")\n",
        "#for each line in the input file\n",
        "for line in fin:\n",
        "\t#read replace the string and write to output file\n",
        "\t#fout.write(line.replace('pyton', 'python'))\n",
        "  fout.write(change_tense(line,'present'))\n",
        "#close input and output files\n",
        "fin.close()\n",
        "fout.close()"
      ],
      "metadata": {
        "id": "I77_FBH4gvNy"
      },
      "execution_count": null,
      "outputs": []
    },
    {
      "cell_type": "markdown",
      "source": [
        "**Past Tense Conversion**"
      ],
      "metadata": {
        "id": "p_Mn9ZbzEuRI"
      }
    },
    {
      "cell_type": "code",
      "source": [
        "#input file\n",
        "fin = open(\"../train.txt.raw\", \"rt\")\n",
        "#output file to write the result to\n",
        "fout = open(\"../train-past.txt.raw\", \"wt\")\n",
        "#for each line in the input file\n",
        "for line in fin:\n",
        "\t#read replace the string and write to output file\n",
        "\t#fout.write(line.replace('pyton', 'python'))\n",
        "  fout.write(change_tense(line,'past'))\n",
        "#close input and output files\n",
        "fin.close()\n",
        "fout.close()"
      ],
      "metadata": {
        "id": "AoF259feEj8-"
      },
      "execution_count": null,
      "outputs": []
    },
    {
      "cell_type": "markdown",
      "source": [
        "**Future Tense Conversion**"
      ],
      "metadata": {
        "id": "vaFatfwGExel"
      }
    },
    {
      "cell_type": "markdown",
      "source": [
        "if future tense is not working on large dataset. Make chunks of large file into small datasets having 20000 lines in each file using code below."
      ],
      "metadata": {
        "id": "Wn51B_YIajog"
      }
    },
    {
      "cell_type": "code",
      "source": [
        "#input file\n",
        "fin = open(\"train.txt.raw\", \"rt\")\n",
        "#output file to write the result to\n",
        "fout = open(\"train-future.txt.raw\", \"wt\")\n",
        "#for each line in the input file\n",
        "for line in fin:\n",
        "\t#read replace the string and write to output file\n",
        "\t#fout.write(line.replace('pyton', 'python'))\n",
        "  fout.write(change_tense(line,'future'))\n",
        "#close input and output files\n",
        "fin.close()\n",
        "fout.close()"
      ],
      "metadata": {
        "id": "8gUfSbY5EmlS"
      },
      "execution_count": null,
      "outputs": []
    },
    {
      "cell_type": "markdown",
      "source": [
        "here i am creating data chunks for future tense change"
      ],
      "metadata": {
        "id": "kTNBqSu5X84J"
      }
    },
    {
      "cell_type": "code",
      "source": [
        "my_file = 'train.txt.raw'\n",
        "sorting = True\n",
        "hold_lines = []\n",
        "with open(my_file,'r') as text_file:\n",
        "    for row in text_file:\n",
        "        hold_lines.append(row)\n",
        "outer_count = 1\n",
        "line_count = 0\n",
        "while sorting:\n",
        "    count = 0\n",
        "    increment = (outer_count-1) * 20000\n",
        "    left = len(hold_lines) - increment\n",
        "    file_name = \"/content/data-chunks/train\" + str(outer_count * 20000) + \".txt.raw\"\n",
        "    hold_new_lines = []\n",
        "    if left < 20000:\n",
        "        while count < left:\n",
        "            hold_new_lines.append(hold_lines[line_count])\n",
        "            count += 1\n",
        "            line_count += 1\n",
        "        sorting = False\n",
        "    else:\n",
        "        while count < 20000:\n",
        "            hold_new_lines.append(hold_lines[line_count])\n",
        "            count += 1\n",
        "            line_count += 1\n",
        "    outer_count += 1\n",
        "    with open(file_name,'w') as next_file:\n",
        "        for row in hold_new_lines:\n",
        "            next_file.write(row)"
      ],
      "metadata": {
        "id": "NKoTmncHYU4E"
      },
      "execution_count": null,
      "outputs": []
    },
    {
      "cell_type": "code",
      "source": [
        "cd tenseflow/"
      ],
      "metadata": {
        "colab": {
          "base_uri": "https://localhost:8080/"
        },
        "id": "2R-JmNuNZaMq",
        "outputId": "16a92260-fad2-4747-b8a9-4792dcb216ed"
      },
      "execution_count": null,
      "outputs": [
        {
          "output_type": "stream",
          "name": "stdout",
          "text": [
            "/content/tenseflow\n"
          ]
        }
      ]
    },
    {
      "cell_type": "code",
      "source": [
        "cat train-present.txt train-past.txt train-future.txt > ../train.txt.raw"
      ],
      "metadata": {
        "id": "wcXbqtaqz88S"
      },
      "execution_count": null,
      "outputs": []
    },
    {
      "cell_type": "code",
      "source": [
        "!pip install spacy"
      ],
      "metadata": {
        "id": "7meZ9fV4t1JE"
      },
      "execution_count": null,
      "outputs": []
    },
    {
      "cell_type": "code",
      "source": [
        "!pip install pyinflect"
      ],
      "metadata": {
        "id": "ezAa0j2_t5WX"
      },
      "execution_count": null,
      "outputs": []
    },
    {
      "cell_type": "code",
      "source": [
        "import spacy\n",
        "import pyinflect\n",
        "\n",
        "nlp = spacy.load(\"en_core_web_sm\")\n",
        "\n",
        "text = \"As she leave the kitchen, his voice follows her.\"\n",
        "doc_dep = nlp(text)\n",
        "for i in range(len(doc_dep)):\n",
        "    token = doc_dep[i]\n",
        "    if token.tag_ in ['VBP', 'VBZ']:\n",
        "        print(token.text, token.lemma_, token.pos_, token.tag_) \n",
        "        text = text.replace(token.text, token._.inflect(\"VBD\"))\n",
        "print(text)"
      ],
      "metadata": {
        "id": "YHOzDmJ5tzG3"
      },
      "execution_count": null,
      "outputs": []
    },
    {
      "cell_type": "code",
      "source": [
        "cd ../"
      ],
      "metadata": {
        "id": "Quor2_d03Kzk",
        "colab": {
          "base_uri": "https://localhost:8080/"
        },
        "outputId": "43aa6c38-b919-4e6a-a500-9d330fbc1e2e"
      },
      "execution_count": null,
      "outputs": [
        {
          "output_type": "stream",
          "name": "stdout",
          "text": [
            "/content/tenseflow\n"
          ]
        }
      ]
    },
    {
      "cell_type": "code",
      "source": [
        "cat ./en/gold/train.txt.raw ./en/silver/train.txt.raw > ../../train.txt.raw"
      ],
      "metadata": {
        "id": "AldbYm6AQTFG"
      },
      "execution_count": null,
      "outputs": []
    },
    {
      "cell_type": "markdown",
      "source": [
        "**code below will find number of lines in a long text file**"
      ],
      "metadata": {
        "id": "wpwF-t9iRApe"
      }
    },
    {
      "cell_type": "code",
      "source": [
        "mv sample.txt train-future.txt.raw"
      ],
      "metadata": {
        "id": "Xq3jYDxV1Anp"
      },
      "execution_count": null,
      "outputs": []
    },
    {
      "cell_type": "code",
      "source": [
        "num_lines = sum(1 for line in open('sample.txt'))\n",
        "print(num_lines)"
      ],
      "metadata": {
        "colab": {
          "base_uri": "https://localhost:8080/"
        },
        "id": "8WIgLKHTQAZn",
        "outputId": "ccab610e-8fe6-4460-8a80-34a2aa80d0d1"
      },
      "execution_count": null,
      "outputs": [
        {
          "output_type": "stream",
          "name": "stdout",
          "text": [
            "104219\n"
          ]
        }
      ]
    },
    {
      "cell_type": "code",
      "source": [
        "with open(r\"sample.txt\", 'r+') as fp:\n",
        "    # read an store all lines into list\n",
        "    lines = fp.readlines()\n",
        "    # move file pointer to the beginning of a file\n",
        "    fp.seek(0)\n",
        "    # truncate the file\n",
        "    fp.truncate()\n",
        "\n",
        "    # start writing lines except the first line\n",
        "    # lines[1:] from line 2 to last line\n",
        "    fp.writelines(lines[312653:])"
      ],
      "metadata": {
        "id": "XPqqyyGRy7Hz"
      },
      "execution_count": null,
      "outputs": []
    }
  ]
}